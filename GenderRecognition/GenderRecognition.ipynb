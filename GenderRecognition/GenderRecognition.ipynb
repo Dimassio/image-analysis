{
 "cells": [
  {
   "cell_type": "code",
   "execution_count": 12,
   "metadata": {
    "collapsed": true
   },
   "outputs": [],
   "source": [
    "import cv2\n",
    "import numpy as np\n",
    "from math import pi\n",
    "from scipy.ndimage import filters\n",
    "from numpy import floor"
   ]
  },
  {
   "cell_type": "code",
   "execution_count": 2,
   "metadata": {
    "collapsed": false
   },
   "outputs": [],
   "source": [
    "img = cv2.imread('lena30.jpg')\n",
    "gray_img = cv2.cvtColor(img, cv2.COLOR_BGR2GRAY)\n",
    "face_cascade = cv2.CascadeClassifier('haarcascade_frontalface_default.xml')"
   ]
  },
  {
   "cell_type": "code",
   "execution_count": 3,
   "metadata": {
    "collapsed": false
   },
   "outputs": [],
   "source": [
    "def ratio(x):\n",
    "    # x[4] - центральный элемент\n",
    "    value = 0.0\n",
    "    if x[4] == 0:\n",
    "        value = pi / 2.0\n",
    "    else:\n",
    "        value = np.arctan(float(x.sum() - 9.0 * x[4]) / x[4])\n",
    "    return value\n",
    "\n",
    "def intense_fraction(x):\n",
    "    value = 0.0\n",
    "    if x[5] == x[1]:\n",
    "        value = 2.0 * pi\n",
    "    else:\n",
    "        value = 2.0 * np.arctan(float(x[7] - x[3]) / (x[5] - x[1])) + pi\n",
    "    return value"
   ]
  },
  {
   "cell_type": "code",
   "execution_count": 33,
   "metadata": {
    "collapsed": true
   },
   "outputs": [],
   "source": [
    "# Magic numbers\n",
    "M = 4\n",
    "T = 8\n",
    "S = 4\n",
    "eps = 0.000001\n",
    "block_size = 12"
   ]
  },
  {
   "cell_type": "code",
   "execution_count": 48,
   "metadata": {
    "collapsed": false
   },
   "outputs": [
    {
     "name": "stdout",
     "output_type": "stream",
     "text": [
      "length = 16\n",
      "first hist:\n",
      "(array([4607,    0,    0,    0,    0,    0,    0,    0,    0,    0,    0,\n",
      "          0,    0,    0,    0,   21], dtype=int64), array([   0.    ,   15.9375,   31.875 ,   47.8125,   63.75  ,   79.6875,\n",
      "         95.625 ,  111.5625,  127.5   ,  143.4375,  159.375 ,  175.3125,\n",
      "        191.25  ,  207.1875,  223.125 ,  239.0625,  255.    ]))\n",
      "[4607, 0, 0, 0, 1929, 0, 0, 0, 0, 0, 0, 0, 1759, 0, 0, 0, 4674, 0, 0, 0, 9920, 0, 0, 0, 5570, 0, 0, 0, 0, 0, 0, 0, 0, 0, 0, 0, 0, 0, 0, 0, 0, 0, 0, 0, 0, 0, 0, 0, 0, 0, 0, 0, 0, 0, 0, 0, 0, 0, 0, 0, 0, 0, 0, 0, 0, 0, 0, 0, 0, 0, 0, 0, 0, 0, 0, 0, 0, 0, 0, 0, 0, 0, 0, 0, 0, 0, 0, 0, 0, 0, 0, 0, 0, 0, 0, 0, 0, 0, 0, 21, 0, 0, 0, 38, 0, 0, 0, 0, 0, 0, 0, 15, 0, 0, 0, 10, 0, 0, 0, 7, 0, 0, 0, 11, 0, 0, 0, 0]\n"
     ]
    }
   ],
   "source": [
    "faces = face_cascade.detectMultiScale(gray_img)\n",
    "for (x, y, w, h) in faces:\n",
    "    # here starts new block\n",
    "    image = gray_img[y:y + h, x:x + w]\n",
    "   \n",
    "    # Calculating differential excitation\n",
    "    image_de = filters.generic_filter(image, ratio, (3, 3))\n",
    "   \n",
    "    # Calculating gradient orientation\n",
    "    image_teta = filters.generic_filter(image, intense_fraction, (3, 3))\n",
    "\n",
    "    # Calculating dominant orientation\n",
    "    phi = 2.0 * pi * (floor((image_teta * T) / (2.0 * pi) + 1.0 / 2.0) % T) / T\n",
    "    # Each phi[j] is from T values: {phi_0, phi_1, ....phi_(T-1)}\n",
    "    H_t = []\n",
    "    for t in range(T):\n",
    "        phi_t = 2.0 * pi * t / T \n",
    "        # Indicies x and y coordinates   \n",
    "        indicies = np.where(abs(phi - phi_t) < eps)\n",
    "        # We wil build hostogram on diff excitiation\n",
    "        values = image_de[indicies[0], indicies[1]]\n",
    "        # In H_t (array_of_values, array_of_coords)\n",
    "        H_t.append(np.histogram(values, bins=M * S))\n",
    "    \n",
    "    # Divide each of t histograms to m parts\n",
    "    length = len(H_t[0][0])\n",
    "    print \"length = \" + str(length)\n",
    "    print \"first hist:\"\n",
    "    print H_t[0]\n",
    "    # -----> t\n",
    "    # |\n",
    "    # |\n",
    "    # |\n",
    "    # |\n",
    "    # v m\n",
    "    H_tm = []\n",
    "    for t in range(T):\n",
    "        hist_part = []\n",
    "        for m in range(M):\n",
    "            hist_part.append((H_t[t][0][m * length / M: (m + 1) * length / M],\n",
    "                             H_t[t][1][m * length / M: (m + 1) * length / M]))\n",
    "        H_tm.append(hist_part)\n",
    "\n",
    "    H_m = []\n",
    "    for m in range(M):\n",
    "        hist_m = []\n",
    "        for t in range(T):\n",
    "            # NOTE: taking only values\n",
    "            hist_m += [value for value in H_tm[t][m][0]]\n",
    "        H_m.append(hist_m)\n",
    "\n",
    "    H = []\n",
    "    for i in range(M):\n",
    "        H += H_m[i]\n",
    "        \n",
    "    print H"
   ]
  },
  {
   "cell_type": "code",
   "execution_count": null,
   "metadata": {
    "collapsed": true
   },
   "outputs": [],
   "source": []
  }
 ],
 "metadata": {
  "kernelspec": {
   "display_name": "Python 2",
   "language": "python",
   "name": "python2"
  },
  "language_info": {
   "codemirror_mode": {
    "name": "ipython",
    "version": 2
   },
   "file_extension": ".py",
   "mimetype": "text/x-python",
   "name": "python",
   "nbconvert_exporter": "python",
   "pygments_lexer": "ipython2",
   "version": "2.7.13"
  }
 },
 "nbformat": 4,
 "nbformat_minor": 2
}
